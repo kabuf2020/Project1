{
 "cells": [
  {
   "cell_type": "code",
   "execution_count": null,
   "metadata": {},
   "outputs": [],
   "source": [
    "import idigbio\n",
    "#https://github.com/idigbio/idigbio-search-api/wiki\n",
    "import urllib.request, urllib.parse, urllib.error #I don't think we're using this\n",
    "import json\n",
    "import pandas as pd\n",
    "\n",
    "def getInfoForGenus(genus, index):\n",
    "    api = idigbio.json()\n",
    "    record_list = api.search_records(rq={\"genus\": genus}, fields=index)\n",
    "    #find the field list here https://github.com/idigbio/idigbio-search-api/wiki/Index-Fields#record-query-fields\n",
    "    data=[]\n",
    "    for item in record_list['items']: #the indexTerms is a subdictionary including the fields requested above\n",
    "        info= item['indexTerms']  #extracting this as info makes it parsable\n",
    "        try: \n",
    "            for i in info:\n",
    "                obs=[info[index[0]], info[index[1]], info[index[2]]]\n",
    "            data.append(obs)\n",
    "        except:  \n",
    "            continue\n",
    "    df = pd.DataFrame(data, columns = [index[0], index[1], index[2]]) \n",
    "#it is now possible to pull subset of data of interest from the data frame\n",
    "    return(df)\n",
    "\n",
    "myDF = getInfoForGenus(\"Lythrypnus\", [\"scientificname\",\"country\", \"institutioncode\"])\n",
    "print(myDF)\n",
    "\n"
   ]
  }
 ],
 "metadata": {
  "kernelspec": {
   "display_name": "Python 3.8 (full)",
   "language": "python",
   "name": "python3-3.8-ufrc"
  },
  "language_info": {
   "codemirror_mode": {
    "name": "ipython",
    "version": 3
   },
   "file_extension": ".py",
   "mimetype": "text/x-python",
   "name": "python",
   "nbconvert_exporter": "python",
   "pygments_lexer": "ipython3",
   "version": "3.8.5"
  }
 },
 "nbformat": 4,
 "nbformat_minor": 4
}
