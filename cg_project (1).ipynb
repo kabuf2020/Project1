{
 "cells": [
  {
   "cell_type": "code",
   "execution_count": 3,
   "metadata": {},
   "outputs": [
    {
     "name": "stdout",
     "output_type": "stream",
     "text": [
      "No image found.\n",
      "No image found.\n",
      "No image found.\n",
      "No image found.\n",
      "No image found.\n",
      "No image found.\n",
      "No image found.\n",
      "No image found.\n",
      "No image found.\n",
      "No image found.\n",
      "No image found.\n",
      "No image found.\n"
     ]
    }
   ],
   "source": [
    "# import modules\n",
    "import idigbio\n",
    "import urllib.request, urllib.parse, urllib.error\n",
    "import json\n",
    "import pandas as pd\n",
    "\n",
    "api = idigbio.json()\n",
    "record_list = api.search_records(rq={\"genus\": \"Escherichia\"}, fields=[\"hasImage\"])\n",
    "\n",
    "# define function to determine if Escherichia specimens have an image\n",
    "def image_func(api):\n",
    "    for item in record_list['items']: #the indexTerms is a subdictionary including the fields requested above\n",
    "        info= item['indexTerms']  #extracting this as info makes it parsable\n",
    "        try: \n",
    "            obs=[info['hasImage']]\n",
    "        except:  \n",
    "            continue\n",
    "        if info == True:\n",
    "            print(\"Has image!\")\n",
    "        else:\n",
    "            print(\"No image found.\")\n",
    "\n",
    "# call the function\n",
    "image_func(api)"
   ]
  },
  {
   "cell_type": "code",
   "execution_count": null,
   "metadata": {},
   "outputs": [],
   "source": []
  },
  {
   "cell_type": "code",
   "execution_count": null,
   "metadata": {},
   "outputs": [],
   "source": []
  }
 ],
 "metadata": {
  "kernelspec": {
   "display_name": "Python 3.8 (full)",
   "language": "python",
   "name": "python3-3.8-ufrc"
  },
  "language_info": {
   "codemirror_mode": {
    "name": "ipython",
    "version": 3
   },
   "file_extension": ".py",
   "mimetype": "text/x-python",
   "name": "python",
   "nbconvert_exporter": "python",
   "pygments_lexer": "ipython3",
   "version": "3.8.5"
  }
 },
 "nbformat": 4,
 "nbformat_minor": 4
}
